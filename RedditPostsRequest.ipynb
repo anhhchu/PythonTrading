{
 "cells": [
  {
   "cell_type": "code",
   "execution_count": 1,
   "id": "9f4bc509",
   "metadata": {},
   "outputs": [
    {
     "name": "stdout",
     "output_type": "stream",
     "text": [
      "Collecting psaw\n",
      "  Downloading psaw-0.1.0-py3-none-any.whl (15 kB)\n",
      "Requirement already satisfied: requests in /Users/hoanganhchu/opt/anaconda3/lib/python3.8/site-packages (from psaw) (2.25.1)\n",
      "Requirement already satisfied: Click in /Users/hoanganhchu/opt/anaconda3/lib/python3.8/site-packages (from psaw) (7.1.2)\n",
      "Requirement already satisfied: idna<3,>=2.5 in /Users/hoanganhchu/opt/anaconda3/lib/python3.8/site-packages (from requests->psaw) (2.10)\n",
      "Requirement already satisfied: urllib3<1.27,>=1.21.1 in /Users/hoanganhchu/opt/anaconda3/lib/python3.8/site-packages (from requests->psaw) (1.26.4)\n",
      "Requirement already satisfied: certifi>=2017.4.17 in /Users/hoanganhchu/opt/anaconda3/lib/python3.8/site-packages (from requests->psaw) (2020.12.5)\n",
      "Requirement already satisfied: chardet<5,>=3.0.2 in /Users/hoanganhchu/opt/anaconda3/lib/python3.8/site-packages (from requests->psaw) (4.0.0)\n",
      "Installing collected packages: psaw\n",
      "Successfully installed psaw-0.1.0\n"
     ]
    }
   ],
   "source": [
    "!pip install psaw"
   ]
  },
  {
   "cell_type": "code",
   "execution_count": 3,
   "id": "856b5e11",
   "metadata": {},
   "outputs": [],
   "source": [
    "from psaw import PushshiftAPI"
   ]
  },
  {
   "cell_type": "code",
   "execution_count": null,
   "id": "8426053f",
   "metadata": {},
   "outputs": [],
   "source": [
    "api = "
   ]
  }
 ],
 "metadata": {
  "kernelspec": {
   "display_name": "Python 3",
   "language": "python",
   "name": "python3"
  },
  "language_info": {
   "codemirror_mode": {
    "name": "ipython",
    "version": 3
   },
   "file_extension": ".py",
   "mimetype": "text/x-python",
   "name": "python",
   "nbconvert_exporter": "python",
   "pygments_lexer": "ipython3",
   "version": "3.8.8"
  }
 },
 "nbformat": 4,
 "nbformat_minor": 5
}
